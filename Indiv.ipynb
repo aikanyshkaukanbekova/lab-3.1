{
 "cells": [
  {
   "cell_type": "code",
   "execution_count": 1,
   "id": "71e32944",
   "metadata": {},
   "outputs": [],
   "source": [
    "from matplotlib import pylab as plt\n",
    "import numpy as np\n",
    "import math\n",
    "%matplotlib inline"
   ]
  },
  {
   "cell_type": "markdown",
   "id": "b42d9e1a",
   "metadata": {},
   "source": [
    "Задание: Петя ждал вову  возле парка, мимо парка проехал Вася со скоростью м/с. Петя поехал за Васейб но через какое то время он догнал его. Петя двигался с ускорением ь/с2, а Вася равномерно."
   ]
  },
  {
   "cell_type": "code",
   "execution_count": 4,
   "id": "e60457a0",
   "metadata": {},
   "outputs": [
    {
     "name": "stdout",
     "output_type": "stream",
     "text": [
      "Введите скорость товарного состава: 1\n",
      "Введите ускорение пассажирского поезда: 3\n",
      "Место встречи поездов: 0.6666666666666666\n",
      "Время встречи поездов: 0.6666666666666666\n"
     ]
    },
    {
     "data": {
      "text/plain": [
       "[<matplotlib.lines.Line2D at 0x798e6fb0a0>]"
      ]
     },
     "execution_count": 4,
     "metadata": {},
     "output_type": "execute_result"
    },
    {
     "data": {
      "image/png": "[encoded data removed]",
      "text/plain": [
       "<Figure size 432x288 with 1 Axes>"
      ]
     },
     "metadata": {
      "needs_background": "light"
     },
     "output_type": "display_data"
    }
   ],
   "source": [
    "v = float(input(\"Введите скорость велосипеда: \"))\n",
    "a = float(input(\"Введите ускорение электрического самоката: \"))\n",
    "t = (2 * v) / a\n",
    "z = v * t\n",
    "print(f\"Место встречи друзей: {z}\")\n",
    "print(f\"Время встречи друзей: {t}\")\n",
    "x = [i for i in range(int(t) + 5)]\n",
    "y1 = [(v*i) for i in range(int(t) + 5)]\n",
    "y2 = [(a*pow(i, 2) / 2) for i in range(int(t) + 5)]\n",
    "plt.plot(x, y1)\n",
    "plt.plot(x, y2)"
   ]
  },
  {
   "cell_type": "code",
   "execution_count": null,
   "id": "922a0d18",
   "metadata": {},
   "outputs": [],
   "source": []
  },
  {
   "cell_type": "code",
   "execution_count": null,
   "id": "56d5e613",
   "metadata": {},
   "outputs": [],
   "source": []
  }
 ],
 "metadata": {
  "kernelspec": {
   "display_name": "Python 3",
   "language": "python",
   "name": "python3"
  },
  "language_info": {
   "codemirror_mode": {
    "name": "ipython",
    "version": 3
   },
   "file_extension": ".py",
   "mimetype": "text/x-python",
   "name": "python",
   "nbconvert_exporter": "python",
   "pygments_lexer": "ipython3",
   "version": "3.8.8"
  }
 },
 "nbformat": 4,
 "nbformat_minor": 5
}
